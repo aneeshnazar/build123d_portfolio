{
 "cells": [
  {
   "cell_type": "code",
   "execution_count": null,
   "id": "1fa538c1",
   "metadata": {},
   "outputs": [],
   "source": [
    "%load_ext autoreload\n",
    "%autoreload 2\n",
    "\n",
    "from jupyter_cadquery import set_defaults, show, Camera, Collapse\n",
    "from build123d import *\n",
    "\n",
    "set_defaults(\n",
    "\tviewer=\"Sidecar\",\n",
    "\tedge_accuracy=0.0001,\n",
    "\tticks=25,\n",
    "\tgrid=[True, True, True],\n",
    "\tcad_width=780,\n",
    "\taxes=True,\n",
    "\taxes0=True,\n",
    "\tglass=True,\n",
    "\torbit_control=True,\n",
    "\treset_camera=Camera.CENTER,\n",
    "\tcollapse=Collapse.LEAVES\n",
    ")"
   ]
  },
  {
   "cell_type": "code",
   "execution_count": null,
   "id": "f28324ef",
   "metadata": {
    "vscode": {
     "languageId": "plaintext"
    }
   },
   "outputs": [],
   "source": []
  }
 ],
 "metadata": {
  "language_info": {
   "name": "python"
  }
 },
 "nbformat": 4,
 "nbformat_minor": 5
}
