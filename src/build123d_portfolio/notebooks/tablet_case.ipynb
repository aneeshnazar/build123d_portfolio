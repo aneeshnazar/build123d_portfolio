{
 "cells": [
  {
   "cell_type": "code",
   "execution_count": 23,
   "id": "d1cf73d4-455f-4af4-a719-5bb8567000a7",
   "metadata": {
    "editable": true,
    "slideshow": {
     "slide_type": ""
    },
    "tags": []
   },
   "outputs": [
    {
     "name": "stdout",
     "output_type": "stream",
     "text": [
      "The autoreload extension is already loaded. To reload it, use:\n",
      "  %reload_ext autoreload\n"
     ]
    }
   ],
   "source": [
    "%load_ext autoreload\n",
    "%autoreload 2\n",
    "\n",
    "from jupyter_cadquery import set_defaults, show, Camera, Collapse\n",
    "from build123d import *\n",
    "from collections import namedtuple\n",
    "from itertools import chain, product\n",
    "from projects.tablet.features import Port, Button, CameraBump\n",
    "\n",
    "set_defaults(\n",
    "\tviewer=\"Sidecar\",\n",
    "\tedge_accuracy=0.0001,\n",
    "\tticks=25,\n",
    "\tgrid=[True, True, True],\n",
    "\tcad_width=780,\n",
    "\taxes=True,\n",
    "\taxes0=True,\n",
    "\tglass=True,\n",
    "\torbit_control=True,\n",
    "\treset_camera=Camera.CENTER,\n",
    "\tcollapse=Collapse.LEAVES\n",
    ")"
   ]
  },
  {
   "cell_type": "code",
   "execution_count": 24,
   "id": "f28324ef",
   "metadata": {
    "vscode": {
     "languageId": "plaintext"
    }
   },
   "outputs": [],
   "source": [
    "TABLET_LENGTH = 240\n",
    "TABLET_WIDTH = 158\n",
    "TABLET_HEIGHT = 10\n",
    "TABLET_ROUND_RADIUS = 10"
   ]
  },
  {
   "cell_type": "code",
   "execution_count": 25,
   "id": "86c893fb-886f-4069-8be1-2a8781d4d460",
   "metadata": {
    "editable": true,
    "scrolled": true,
    "slideshow": {
     "slide_type": ""
    },
    "tags": []
   },
   "outputs": [
    {
     "name": "stdout",
     "output_type": "stream",
     "text": [
      "c\n"
     ]
    },
    {
     "data": {
      "text/plain": [
       "<cad_viewer_widget.widget.CadViewer at 0x1320f1be0>"
      ]
     },
     "execution_count": 25,
     "metadata": {},
     "output_type": "execute_result"
    }
   ],
   "source": [
    "with BuildPart() as tablet:\n",
    "    b = Box(TABLET_LENGTH, TABLET_WIDTH, TABLET_HEIGHT)\n",
    "    b = fillet(b.edges().filter_by(Axis.Z), TABLET_ROUND_RADIUS)\n",
    "    back_face = b.faces().sort_by(Axis.Z).first\n",
    "    faces = b.faces().filter_by(GeomType.PLANE).sort_by(Axis.Z)[1:5].sort_by(Axis.X)\n",
    "    tablet_faces = tablet.faces().filter_by(Axis.Z).sort_by(Axis.Z)\n",
    "    tablet_edges = tablet_faces.edges() #[tablet_faces[0].edges()] + [tablet_faces[2].edges()]\n",
    "    Button(\n",
    "        faces[0],\n",
    "        (2, 10, 3),\n",
    "        (0, 0),\n",
    "        align=(Align.CENTER, Align.MAX, Align.CENTER)\n",
    "    )\n",
    "    Button(\n",
    "        faces[2],\n",
    "        (2, 20, 3),\n",
    "        (0, 0),\n",
    "        align=(Align.CENTER, Align.MIN, Align.CENTER)\n",
    "    )\n",
    "    Port(\n",
    "        faces[3],\n",
    "        (4, 10, 8), \n",
    "        (0,0),\n",
    "        align=(Align.CENTER, Align.CENTER, Align.MAX)\n",
    "    )\n",
    "    CameraBump(\n",
    "        back_face,\n",
    "        6,\n",
    "        1,\n",
    "        (10,10),\n",
    "        align=(Align.MIN, Align.MIN, Align.MIN)\n",
    "    )\n",
    "    chamfer(tablet_edges, 2)\n",
    "show(tablet)"
   ]
  },
  {
   "cell_type": "code",
   "execution_count": null,
   "id": "ca28e79a-516b-4bc7-a5b0-0f1d286a9302",
   "metadata": {},
   "outputs": [],
   "source": []
  }
 ],
 "metadata": {
  "kernelspec": {
   "display_name": "Python 3 (ipykernel)",
   "language": "python",
   "name": "python3"
  },
  "language_info": {
   "codemirror_mode": {
    "name": "ipython",
    "version": 3
   },
   "file_extension": ".py",
   "mimetype": "text/x-python",
   "name": "python",
   "nbconvert_exporter": "python",
   "pygments_lexer": "ipython3",
   "version": "3.12.11"
  }
 },
 "nbformat": 4,
 "nbformat_minor": 5
}
