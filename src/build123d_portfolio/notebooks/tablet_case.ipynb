{
 "cells": [
  {
   "cell_type": "code",
   "execution_count": 1,
   "id": "d1cf73d4-455f-4af4-a719-5bb8567000a7",
   "metadata": {
    "editable": true,
    "slideshow": {
     "slide_type": ""
    },
    "tags": []
   },
   "outputs": [
    {
     "name": "stdout",
     "output_type": "stream",
     "text": [
      "Overwriting auto display for build123d BuildPart, BuildSketch, BuildLine, ShapeList\n"
     ]
    }
   ],
   "source": [
    "%load_ext autoreload\n",
    "%autoreload 2\n",
    "\n",
    "from jupyter_cadquery import set_defaults, show, Camera, Collapse\n",
    "from build123d import *\n",
    "from collections import namedtuple\n",
    "from itertools import chain, product\n",
    "from projects.tablet.features import Port, Button, CameraBump\n",
    "\n",
    "set_defaults(\n",
    "\tviewer=\"Sidecar\",\n",
    "\tedge_accuracy=0.0001,\n",
    "\tticks=25,\n",
    "\tgrid=[True, True, True],\n",
    "\tcad_width=780,\n",
    "\taxes=True,\n",
    "\taxes0=True,\n",
    "\tglass=True,\n",
    "\torbit_control=True,\n",
    "\treset_camera=Camera.CENTER,\n",
    "\tcollapse=Collapse.LEAVES\n",
    ")"
   ]
  },
  {
   "cell_type": "code",
   "execution_count": 2,
   "id": "f28324ef",
   "metadata": {
    "vscode": {
     "languageId": "plaintext"
    }
   },
   "outputs": [],
   "source": [
    "TABLET_LENGTH = 240\n",
    "TABLET_WIDTH = 158\n",
    "TABLET_HEIGHT = 10\n",
    "TABLET_ROUND_RADIUS = 10\n",
    "TABLET_CHAMFER = 2\n",
    "\n",
    "CASE_THICKNESS = 1"
   ]
  },
  {
   "cell_type": "code",
   "execution_count": 3,
   "id": "86c893fb-886f-4069-8be1-2a8781d4d460",
   "metadata": {
    "editable": true,
    "scrolled": true,
    "slideshow": {
     "slide_type": ""
    },
    "tags": []
   },
   "outputs": [
    {
     "name": "stdout",
     "output_type": "stream",
     "text": [
      "+\n"
     ]
    },
    {
     "data": {
      "text/plain": [
       "<cad_viewer_widget.widget.CadViewer at 0x10a206c30>"
      ]
     },
     "execution_count": 3,
     "metadata": {},
     "output_type": "execute_result"
    }
   ],
   "source": [
    "class RawTablet(BasePartObject):\n",
    "    def __init__(\n",
    "        self,\n",
    "        tablet_length,\n",
    "        tablet_width,\n",
    "        tablet_height,\n",
    "        tablet_body_radius,\n",
    "        tablet_chamfer,\n",
    "        rotation = (0,0,0),\n",
    "        align=(Align.CENTER, Align.CENTER, Align.MIN),\n",
    "        mode=Mode.ADD\n",
    "    ):\n",
    "        with BuildPart() as tablet:\n",
    "            Box(tablet_length, tablet_width, tablet_height)\n",
    "            fillet(tablet.edges().filter_by(Axis.Z), tablet_body_radius)\n",
    "            chamfer(tablet.faces().filter_by(Axis.Z).edges(), tablet_chamfer)\n",
    "        super().__init__(tablet.part, rotation, align, mode)\n",
    "        self.side_faces = tablet.part.faces().filter_by(GeomType.PLANE).sort_by(Axis.Z)[5:9]\n",
    "        self.back_face = tablet.part.faces().sort_by(Axis.Z).first\n",
    "\n",
    "with BuildPart() as tablet:\n",
    "    t = RawTablet(TABLET_LENGTH, TABLET_WIDTH, TABLET_HEIGHT, TABLET_ROUND_RADIUS, TABLET_CHAMFER)\n",
    "    Button(\n",
    "        t.side_faces[0],\n",
    "        (2, 10, 3),\n",
    "        (0, 0),\n",
    "        align=(Align.CENTER, Align.MAX, Align.CENTER)\n",
    "    )\n",
    "    Button(\n",
    "        t.side_faces[2],\n",
    "        (2, 20, 3),\n",
    "        (0, 0),\n",
    "        align=(Align.CENTER, Align.MIN, Align.CENTER)\n",
    "    )\n",
    "    Port(\n",
    "        t.side_faces[3],\n",
    "        (4, 10, 8), \n",
    "        (0,0),\n",
    "        align=(Align.CENTER, Align.CENTER, Align.MAX)\n",
    "    )\n",
    "    CameraBump(\n",
    "        t.back_face,\n",
    "        6,\n",
    "        1,\n",
    "        (10,10),\n",
    "        align=(Align.MIN, Align.MIN, Align.MIN)\n",
    "    )"
   ]
  },
  {
   "cell_type": "code",
   "execution_count": 4,
   "id": "ca28e79a-516b-4bc7-a5b0-0f1d286a9302",
   "metadata": {
    "scrolled": true
   },
   "outputs": [
    {
     "name": "stdout",
     "output_type": "stream",
     "text": [
      "++\n"
     ]
    },
    {
     "data": {
      "text/plain": [
       "<cad_viewer_widget.widget.CadViewer at 0x10a206c30>"
      ]
     },
     "execution_count": 4,
     "metadata": {},
     "output_type": "execute_result"
    }
   ],
   "source": [
    "with BuildPart() as tablet_case:\n",
    "    t = RawTablet(TABLET_LENGTH, TABLET_WIDTH, TABLET_HEIGHT, TABLET_ROUND_RADIUS, TABLET_CHAMFER)\n",
    "    offset(openings=[t.faces().sort_by(Axis.Z).filter_by(Axis.Z).last], amount=CASE_THICKNESS)\n",
    "    \n",
    "    with BuildPart(tablet.faces().filter_by(Axis.Z).sort_by(Axis.Z).first, mode=Mode.SUBTRACT):\n",
    "        Cylinder(8, 6, align=(Align.CENTER, Align.CENTER, Align.CENTER))\n",
    "\n",
    "    with BuildPart(tablet.faces().filter_by(Axis.Y).sort_by(Axis.Y).last, mode=Mode.SUBTRACT):\n",
    "        Box(8, 22, 10, align=(Align.CENTER, Align.CENTER, Align.CENTER))\n",
    "\n",
    "    with BuildPart(tablet.faces().filter_by(Axis.X).sort_by(Axis.X).first, mode=Mode.SUBTRACT):\n",
    "        Box(8, 12, 10, align=(Align.CENTER, Align.CENTER, Align.CENTER))\n",
    "\n",
    "    with BuildPart(tablet.faces().filter_by(Axis.X).sort_by(Axis.X).last, mode=Mode.SUBTRACT):\n",
    "        Box(8, 12, 10, align=(Align.CENTER, Align.CENTER, Align.CENTER))\n",
    "    #split(bisect_by=Plane.XZ, keep=Keep.BOTTOM)\n",
    "#show(tablet.faces().sort_by(Axis.Z).filter_by(Axis.Z).last)\n",
    "show(tablet, tablet_case, colors=[\"grey\", \"green\"])"
   ]
  },
  {
   "cell_type": "code",
   "execution_count": null,
   "id": "b97e1659-bbd3-4ca2-9daf-57b09681797e",
   "metadata": {},
   "outputs": [],
   "source": []
  }
 ],
 "metadata": {
  "kernelspec": {
   "display_name": "Python 3 (ipykernel)",
   "language": "python",
   "name": "python3"
  },
  "language_info": {
   "codemirror_mode": {
    "name": "ipython",
    "version": 3
   },
   "file_extension": ".py",
   "mimetype": "text/x-python",
   "name": "python",
   "nbconvert_exporter": "python",
   "pygments_lexer": "ipython3",
   "version": "3.12.11"
  }
 },
 "nbformat": 4,
 "nbformat_minor": 5
}
