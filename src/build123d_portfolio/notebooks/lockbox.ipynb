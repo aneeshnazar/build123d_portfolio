{
 "cells": [
  {
   "cell_type": "code",
   "execution_count": 1,
   "id": "44b63e81-3897-4cef-b4b6-05a389f38618",
   "metadata": {
    "editable": true,
    "slideshow": {
     "slide_type": ""
    },
    "tags": []
   },
   "outputs": [
    {
     "name": "stdout",
     "output_type": "stream",
     "text": [
      "Overwriting auto display for build123d BuildPart, BuildSketch, BuildLine, ShapeList\n"
     ]
    }
   ],
   "source": [
    "%load_ext autoreload\n",
    "%autoreload 2\n",
    "from build123d import *\n",
    "from jupyter_cadquery import set_defaults, show, Camera, Collapse\n",
    "import math\n",
    "from functools import reduce, partial\n",
    "from types import SimpleNamespace\n",
    "from typing import TypeVar, Optional\n",
    "from dataclasses import dataclass\n",
    "from ipywidgets import interact\n",
    "import ipywidgets as widgets\n",
    "from pathlib import Path\n",
    "\n",
    "set_defaults(\n",
    "    viewer=\"Sidecar\",\n",
    "\tedge_accuracy=0.0001,\n",
    "\tticks=25,\n",
    "\tgrid=[True, True, True],\n",
    "\tcad_width=780,\n",
    "\taxes=True,\n",
    "\taxes0=True,\n",
    "\tglass=True,\n",
    "\torbit_control=True,\n",
    "\treset_camera=Camera.CENTER,\n",
    "\tcollapse=Collapse.LEAVES\n",
    ")\n",
    "\n",
    "from projects.lockbox import Dividers, FixedDividerLockboxLid, FixedDividerLockboxBody\n",
    "import inspect"
   ]
  },
  {
   "cell_type": "code",
   "execution_count": 63,
   "id": "de84df76-398b-4008-942e-6dd3ef3493fe",
   "metadata": {},
   "outputs": [],
   "source": [
    "from pathlib import Path\n",
    "\n",
    "#print(Path(\"../../../packages/projects/src/projects/lockbox/__init__.py\").read_text())"
   ]
  },
  {
   "cell_type": "code",
   "execution_count": 64,
   "id": "ac532173-92d3-4477-83f3-fb989c0e9454",
   "metadata": {},
   "outputs": [
    {
     "name": "stdout",
     "output_type": "stream",
     "text": [
      "cc\n"
     ]
    },
    {
     "data": {
      "text/plain": [
       "<cad_viewer_widget.widget.CadViewer at 0x12ecbf2c0>"
      ]
     },
     "execution_count": 64,
     "metadata": {},
     "output_type": "execute_result"
    }
   ],
   "source": [
    "length = 250\n",
    "width = 100\n",
    "height = 32\n",
    "thickness = 4.2\n",
    "lid_height = 1.2\n",
    "margin = 0.21\n",
    "body_curvature = 2\n",
    "divider_thickness = 1.26\n",
    "num_dividers = 11\n",
    "lip_chamfer = 1\n",
    "\n",
    "outer_length, outer_width = length, width\n",
    "inner_length, inner_width = length - 2 * thickness, width - 2 * thickness\n",
    "lip_length, lip_width = length - thickness - margin / 2, width - thickness - margin / 2\n",
    "inner_height = height - 2 * thickness\n",
    "lip_height = height - thickness\n",
    "\n",
    "with BuildPart() as body:\n",
    "    Box(outer_length, outer_width, height, align=(Align.CENTER, Align.CENTER, Align.MIN))\n",
    "    with Locations((0,0, height)):\n",
    "        Box(lip_length, lip_width, thickness + margin, align=(Align.CENTER, Align.CENTER, Align.MAX), mode=Mode.SUBTRACT)\n",
    "    with Locations((0,0,height - thickness)):\n",
    "        Box(inner_length, inner_width, inner_height,align=(Align.CENTER, Align.CENTER, Align.MAX), mode=Mode.SUBTRACT)\n",
    "    fillet(body.edges().filter_by(Axis.Z), body_curvature)\n",
    "    with BuildSketch(body.faces().filter_by(Axis.Z).last) as divider_profile:\n",
    "        with GridLocations(inner_length / (num_dividers + 1), 1, num_dividers, 1):\n",
    "            Rectangle(divider_thickness, inner_width + thickness / 2, align=(Align.CENTER, Align.CENTER))\n",
    "    with BuildPart(body.faces().filter_by(Axis.Z).sort_by(Axis.Z)[-2]) as dividers:\n",
    "        add(divider_profile)\n",
    "        extrude(amount=-(inner_height + thickness / 2))\n",
    "    add(dividers, mode=Mode.SUBTRACT)\n",
    "    chamfer_faces = body.faces().sort_by(Axis.Z).filter_by(Axis.Z)\n",
    "    chamfer_edges = chamfer_faces[0].edges()\n",
    "    chamfer(chamfer_edges, thickness / 4, thickness / 4)\n",
    "\n",
    "with BuildPart() as lid:\n",
    "    Box(outer_length, outer_width, thickness, align=(Align.CENTER, Align.CENTER, Align.MIN))\n",
    "    Box(inner_length, inner_width, thickness, align=(Align.CENTER, Align.CENTER, Align.MAX))\n",
    "    fillet(lid.edges().filter_by(Axis.Z), body_curvature)\n",
    "    chamfer(lid.faces().filter_by(Axis.Z).edges(), thickness / 4, thickness / 4)\n",
    "\n",
    "show(Plane.XY.offset(height) * lid.part, body)"
   ]
  },
  {
   "cell_type": "code",
   "execution_count": 10,
   "id": "22a688b5-eea8-45af-a459-65c92f0a54d1",
   "metadata": {
    "editable": true,
    "slideshow": {
     "slide_type": ""
    },
    "tags": []
   },
   "outputs": [
    {
     "name": "stdout",
     "output_type": "stream",
     "text": [
      "[(0.0, 0)]\n",
      "++\n"
     ]
    },
    {
     "data": {
      "text/plain": [
       "<cad_viewer_widget.widget.CadViewer at 0x12f5c3da0>"
      ]
     },
     "execution_count": 10,
     "metadata": {},
     "output_type": "execute_result"
    }
   ],
   "source": [
    "DIVIDER_MASK = [False] * 5 + [True] + [False] * 6\n",
    "\n",
    "body = FixedDividerLockboxBody(\n",
    "    length = 240,\n",
    "    width = 100,\n",
    "    height = 30,\n",
    "    thickness = 1.26,\n",
    "    body_roundness = 8,\n",
    "    divider_mask = DIVIDER_MASK\n",
    ")\n",
    "lid = FixedDividerLockboxLid(\n",
    "    length = 240,\n",
    "    width = 100,\n",
    "    height = 30,\n",
    "    lid_height = 1.6,\n",
    "    thickness = 1.26,\n",
    "    body_roundness = 8,\n",
    "    margin = 0.21,\n",
    "    divider_mask = DIVIDER_MASK\n",
    ")\n",
    "\n",
    "assembly = Compound(label=\"Assembly\", children=[Plane.XY.offset(30 + 1.6 + 1.26) * lid, body])\n",
    "show(assembly)"
   ]
  },
  {
   "cell_type": "code",
   "execution_count": 62,
   "id": "d6e0a58a-45b8-447d-bf00-657a77b4a8e8",
   "metadata": {},
   "outputs": [
    {
     "name": "stdout",
     "output_type": "stream",
     "text": [
      "Too many names, trimming to length 5\n",
      "+++c+\n"
     ]
    }
   ],
   "source": [
    "inside = Pos(0,0,HEIGHT / 2 + THICKNESS / 2) * Box(LENGTH, WIDTH, HEIGHT)\n",
    "\n",
    "def __is_outer_edge(edge: Edge, y_bound: float, x_bound: float) -> bool:\n",
    "    x, y, _ = edge.center().to_tuple()\n",
    "    return (abs(y) == y_bound or abs(x) == x_bound)\n",
    "\n",
    "def __is_inner_body_edge(edge: Edge, y_bound: float, x_bound: float, thickness: float) -> bool:\n",
    "    x, y, z = edge.center().to_tuple()\n",
    "    return -x_bound < x < x_bound and -y_bound <= y <= y_bound and round(z, 2) >= thickness \n",
    "\n",
    "def make_body(\n",
    "        length: float,\n",
    "        width: float,\n",
    "        height: float,\n",
    "        thickness: float,\n",
    "        margin: float,\n",
    "        lid_height: float,\n",
    "        body_fillet: float,\n",
    "        num_dividers: int,\n",
    "        divider_thickness: float,\n",
    "        chamfer_length: float,\n",
    "        outer_bound: bool = True\n",
    "    ):\n",
    "    \n",
    "    if outer_bound:\n",
    "        outer_length, outer_width = length, width\n",
    "        inner_length, inner_width = length - 2 * thickness, width - 2 * thickness\n",
    "        lip_length, lip_width = length - thickness - margin / 2, width - thickness - margin / 2\n",
    "        inner_height = height - 2 * thickness\n",
    "        lip_height = height - thickness\n",
    "    else:\n",
    "        inner_length, inner_width = length, width\n",
    "        outer_length, outer_width = length + 2 * thickness, width + 2 * thickness\n",
    "        lip_length, lip_width = length + thickness - margin / 2, width + thickness - margin / 2\n",
    "        inner_height = height\n",
    "        lip_height = height + thickness\n",
    "    \n",
    "    base_profile = Rectangle(outer_length, outer_width)\n",
    "    lip_bottom_profile = base_profile - Rectangle(inner_length, inner_width)\n",
    "    lip_top_profile = base_profile - Rectangle(lip_length, lip_width)\n",
    "    divider_profile = Rectangle(divider_thickness, inner_width + thickness / 2)\n",
    "\n",
    "    obj = extrude(\n",
    "        base_profile, thickness\n",
    "    ) + extrude(\n",
    "        Plane.XY.offset(thickness) * lip_bottom_profile, inner_height\n",
    "    )\n",
    "    \n",
    "    if lid_height < thickness:\n",
    "        obj = obj + extrude(\n",
    "            Plane.XY.offset(lip_height) * lip_top_profile, lid_height\n",
    "        )\n",
    "    elif lid_height > thickness:\n",
    "        obj = obj - extrude(\n",
    "            Plane.XY.offset(lip_height).reverse() * lip_top_profile, lid_height\n",
    "        )\n",
    "    \n",
    "    if body_fillet > 0:\n",
    "        obj = fillet(obj.edges().filter_by(Axis.Z), body_fillet)\n",
    "    \n",
    "    if num_dividers > 0:\n",
    "        divider_cutout = extrude(Plane.XY.offset(lip_height) * divider_profile, -(inner_height + thickness / 2))\n",
    "\n",
    "        obj: Part = obj - reduce(lambda x, y: x + y, [\n",
    "            loc * divider_cutout for loc in GridLocations(inner_length / (num_dividers + 1), 1, num_dividers, 1)\n",
    "        ])\n",
    "\n",
    "    if chamfer_length > 0:\n",
    "        should_chamfer = partial(__is_outer_edge, x_bound=outer_length / 2, y_bound=outer_width / 2)\n",
    "        obj = chamfer(ShapeList(filter(should_chamfer, obj.edges())), chamfer_length, chamfer_length)\n",
    "        if num_dividers > 0:\n",
    "            should_fillet = partial(__is_inner_body_edge, x_bound=inner_length / 2, y_bound=inner_width / 2, thickness=thickness)\n",
    "            obj = fillet(ShapeList(filter(should_fillet, obj.edges().filter_by(Plane.YZ))), chamfer_length)\n",
    "    \n",
    "    return obj\n",
    "\n",
    "def make_lid(\n",
    "        length: float,\n",
    "        width: float,\n",
    "        thickness: float,\n",
    "        margin: float,\n",
    "        lid_height: float,\n",
    "        body_fillet: float,\n",
    "        chamfer_length: float,\n",
    "        outer_bound: bool =True\n",
    "    ):\n",
    "\n",
    "    # Dimension correction\n",
    "\n",
    "    if outer_bound:\n",
    "        outer_length, outer_width = length, width\n",
    "        lid_length, lid_width = length - thickness + margin / 2, width - thickness + margin / 2\n",
    "    else:\n",
    "        outer_length, outer_width = length + 2 * thickness, width + 2 * thickness\n",
    "        lid_length, lid_width = length + thickness + margin / 2, width + thickness + margin / 2\n",
    "\n",
    "    # Basic Shape\n",
    "\n",
    "    base_profile = Rectangle(outer_length, outer_width)\n",
    "    lid_top_profile = base_profile - Rectangle(lid_length, lid_width)\n",
    "    obj = extrude(\n",
    "        base_profile, thickness\n",
    "    )\n",
    "\n",
    "    # Lid correction\n",
    "\n",
    "    if lid_height < thickness:\n",
    "        obj = obj - extrude(\n",
    "            Plane.XY.offset(thickness).reverse() * lid_top_profile, lid_height\n",
    "        )\n",
    "    elif lid_height > thickness:\n",
    "        obj = obj + extrude(\n",
    "            Plane.XY.offset(thickness) * lid_top_profile, lid_height\n",
    "        )\n",
    "\n",
    "    # Fillet body\n",
    "\n",
    "    if body_fillet > 0:\n",
    "        obj = fillet(obj.edges().filter_by(Axis.Z), body_fillet)\n",
    "\n",
    "    # Chamfer edges\n",
    "\n",
    "    if chamfer_length > 0:\n",
    "        should_chamfer = partial(__is_outer_edge, x_bound=outer_length / 2, y_bound=outer_width / 2)\n",
    "        obj = chamfer(ShapeList(filter(should_chamfer, obj.edges())), chamfer_length, chamfer_length)\n",
    "\n",
    "    return obj\n",
    "\n",
    "def make_divider(divider_thickness, inner_width, inner_height, thickness):\n",
    "    return extrude(Rectangle(divider_thickness, inner_width), inner_height - thickness)\n",
    "\n",
    "def assemble(\n",
    "        length, width, height, thickness, margin, lid_height, body_fillet, divider_thickness, num_dividers, chamfer_length, printable_orientation=True\n",
    "    ):\n",
    "    lid_pos = Pos((0,0,height)) * Rot((0,180,0)) if not printable_orientation else Pos((0, width + margin))\n",
    "    divider_pos = Pos((0,0,height - thickness)) * Rot((0,180,0)) if not printable_orientation else Pos((0, -width, divider_thickness / 2)) * Rot((0,90,0))\n",
    "    return (\n",
    "        make_body(\n",
    "            length, width, height, thickness, margin, lid_height, body_fillet, num_dividers, divider_thickness, chamfer_length\n",
    "        ),\n",
    "        lid_pos * make_lid(length, width, thickness, margin, lid_height, body_fillet, chamfer_length),\n",
    "        divider_pos * make_divider(divider_thickness, width - 2 * thickness, height - thickness, thickness)\n",
    "    )\n",
    "\n",
    "def show_assembly(length, width, height, thickness, margin, lid_height, body_fillet, divider_thickness, num_dividers, chamfer_length, printable_orientation):\n",
    "    show(\n",
    "        *assemble(length, width, height, thickness, margin, lid_height, body_fillet, divider_thickness, num_dividers, chamfer_length, printable_orientation),\n",
    "        #*assemble(226, 86, height, thickness, margin, lid_height, body_fillet, divider_thickness, num_dividers, chamfer_length, printable_orientation),\n",
    "        body, lid,\n",
    "        names=[\"body\", \"lid\", \"divider\"] + [\"body\", \"lid\", \"divider\"],\n",
    "        ticks=30\n",
    "    )\n",
    "\n",
    "show_assembly(\n",
    "    LENGTH,\n",
    "    WIDTH,\n",
    "    HEIGHT,\n",
    "    THICKNESS,\n",
    "    MARGIN, LID_HEIGHT, BODY_FILLET, DIVIDER_THICKNESS, NUM_DIVIDERS, LIP_CHAMFER, False)"
   ]
  },
  {
   "cell_type": "code",
   "execution_count": null,
   "id": "0a78cfb7-2493-450f-b6df-9914b42a5705",
   "metadata": {
    "editable": true,
    "slideshow": {
     "slide_type": ""
    },
    "tags": []
   },
   "outputs": [],
   "source": [
    "length = 240\n",
    "width = 100\n",
    "height = 20\n",
    "lid_height = 1.5\n",
    "thickness = 1\n",
    "body_fillet = 5\n",
    "margin = 0.2\n",
    "num_compartments = 12\n",
    "#divider_mask = [False] * num_compartments\n",
    "#divider_mask = [True] * num_compartments\n",
    "divider_mask = [False, False, True, False, False, True, False, False, False, False, False]"
   ]
  },
  {
   "cell_type": "code",
   "execution_count": 61,
   "id": "040b38b5",
   "metadata": {},
   "outputs": [],
   "source": [
    "LENGTH = 250\n",
    "WIDTH = 100\n",
    "HEIGHT = 32\n",
    "THICKNESS = 4.2\n",
    "LID_HEIGHT = 1.2\n",
    "MARGIN = 0.21\n",
    "BODY_FILLET = 2\n",
    "DIVIDER_THICKNESS = 1.26\n",
    "NUM_DIVIDERS = 11\n",
    "LIP_CHAMFER = 1"
   ]
  },
  {
   "cell_type": "code",
   "execution_count": null,
   "id": "41aea093-ebdd-4b15-b65d-b9aedf394d61",
   "metadata": {},
   "outputs": [],
   "source": [
    "body, lid, divider = assemble(\n",
    "    LENGTH,\n",
    "    WIDTH,\n",
    "    HEIGHT,\n",
    "    THICKNESS,\n",
    "    MARGIN,\n",
    "    LID_HEIGHT,\n",
    "    BODY_FILLET,\n",
    "    DIVIDER_THICKNESS,\n",
    "    NUM_DIVIDERS,\n",
    "    LIP_CHAMFER,\n",
    ")\n",
    "show(body, lid, divider)"
   ]
  },
  {
   "cell_type": "code",
   "execution_count": null,
   "id": "c40aeac2-008b-4b27-a454-a0069e05e8d0",
   "metadata": {},
   "outputs": [],
   "source": [
    "from utilities.export import export\n",
    "from pathlib import Path\n",
    "\n",
    "body, lid, divider = assemble(60, 60, 30, THICKNESS, MARGIN, LID_HEIGHT, BODY_FILLET, DIVIDER_THICKNESS, NUM_DIVIDERS, LIP_CHAMFER)\n",
    "\n",
    "export(Path(\"outputs\") / \"Lockbox\" / \"60mmX60mmX30mm\", body, lid, divider)"
   ]
  },
  {
   "cell_type": "code",
   "execution_count": null,
   "id": "d2911d04-deac-42fd-a4af-75e4c727d8ba",
   "metadata": {},
   "outputs": [],
   "source": [
    "output_path : Path = Path(\"outputs\") / \"Lockbox\" / f\"{LENGTH}mmx{WIDTH}mmx{HEIGHT}mm\"\n",
    "output_path.mkdir(exist_ok=True)\n",
    "export_stl(body, output_path / \"body.stl\")\n",
    "export_stl(lid, output_path / \"lid.stl\")\n",
    "export_stl(divider, output_path / \"divider.stl\")"
   ]
  }
 ],
 "metadata": {
  "kernelspec": {
   "display_name": "Python 3 (ipykernel)",
   "language": "python",
   "name": "python3"
  },
  "language_info": {
   "codemirror_mode": {
    "name": "ipython",
    "version": 3
   },
   "file_extension": ".py",
   "mimetype": "text/x-python",
   "name": "python",
   "nbconvert_exporter": "python",
   "pygments_lexer": "ipython3",
   "version": "3.12.11"
  }
 },
 "nbformat": 4,
 "nbformat_minor": 5
}
