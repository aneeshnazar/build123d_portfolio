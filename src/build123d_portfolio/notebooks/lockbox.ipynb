{
 "cells": [
  {
   "cell_type": "code",
   "execution_count": 1,
   "id": "d53f35cd",
   "metadata": {},
   "outputs": [
    {
     "name": "stdout",
     "output_type": "stream",
     "text": [
      "Overwriting auto display for build123d BuildPart, BuildSketch, BuildLine, ShapeList\n"
     ]
    }
   ],
   "source": [
    "%load_ext autoreload\n",
    "%autoreload 2\n",
    "from build123d import *\n",
    "from jupyter_cadquery import set_defaults, show, Camera, Collapse\n",
    "import math\n",
    "from functools import reduce, partial\n",
    "from types import SimpleNamespace\n",
    "from typing import TypeVar, Optional\n",
    "from dataclasses import dataclass\n",
    "from ipywidgets import interact\n",
    "import ipywidgets as widgets\n",
    "from pathlib import Path\n",
    "\n",
    "set_defaults(\n",
    "    viewer=\"Sidecar\",\n",
    "\tedge_accuracy=0.0001,\n",
    "\tticks=25,\n",
    "\tgrid=[True, True, True],\n",
    "\tcad_width=780,\n",
    "\taxes=True,\n",
    "\taxes0=True,\n",
    "\tglass=True,\n",
    "\torbit_control=True,\n",
    "\treset_camera=Camera.CENTER,\n",
    "\tcollapse=Collapse.LEAVES\n",
    ")"
   ]
  },
  {
   "cell_type": "code",
   "execution_count": 5,
   "id": "f20747e1-5868-41f7-a21a-d0568e27f569",
   "metadata": {
    "jupyter": {
     "source_hidden": true
    }
   },
   "outputs": [],
   "source": [
    "inside = Pos(0,0,HEIGHT / 2 + THICKNESS / 2) * Box(LENGTH, WIDTH, HEIGHT)\n",
    "\n",
    "def __is_outer_edge(edge: Edge, y_bound: float, x_bound: float) -> bool:\n",
    "    x, y, _ = edge.center().to_tuple()\n",
    "    return (abs(y) == y_bound or abs(x) == x_bound)\n",
    "\n",
    "def __is_inner_body_edge(edge: Edge, y_bound: float, x_bound: float, thickness: float) -> bool:\n",
    "    x, y, z = edge.center().to_tuple()\n",
    "    return -x_bound < x < x_bound and -y_bound <= y <= y_bound and round(z, 2) >= thickness \n",
    "\n",
    "def make_body(\n",
    "        length: float,\n",
    "        width: float,\n",
    "        height: float,\n",
    "        thickness: float,\n",
    "        margin: float,\n",
    "        lid_height: float,\n",
    "        body_fillet: float,\n",
    "        num_dividers: int,\n",
    "        divider_thickness: float,\n",
    "        chamfer_length: float,\n",
    "        outer_bound: bool = True\n",
    "    ):\n",
    "    \n",
    "    if outer_bound:\n",
    "        outer_length, outer_width = length, width\n",
    "        inner_length, inner_width = length - 2 * thickness, width - 2 * thickness\n",
    "        lip_length, lip_width = length - thickness - margin / 2, width - thickness - margin / 2\n",
    "        inner_height = height - 2 * thickness\n",
    "        lip_height = height - thickness\n",
    "    else:\n",
    "        inner_length, inner_width = length, width\n",
    "        outer_length, outer_width = length + 2 * thickness, width + 2 * thickness\n",
    "        lip_length, lip_width = length + thickness - margin / 2, width + thickness - margin / 2\n",
    "        inner_height = height\n",
    "        lip_height = height + thickness\n",
    "    \n",
    "    base_profile = Rectangle(outer_length, outer_width)\n",
    "    lip_bottom_profile = base_profile - Rectangle(inner_length, inner_width)\n",
    "    lip_top_profile = base_profile - Rectangle(lip_length, lip_width)\n",
    "    divider_profile = Rectangle(divider_thickness, inner_width + thickness / 2)\n",
    "\n",
    "    obj = extrude(\n",
    "        base_profile, thickness\n",
    "    ) + extrude(\n",
    "        Plane.XY.offset(thickness) * lip_bottom_profile, inner_height\n",
    "    )\n",
    "    \n",
    "    if lid_height < thickness:\n",
    "        obj = obj + extrude(\n",
    "            Plane.XY.offset(lip_height) * lip_top_profile, lid_height\n",
    "        )\n",
    "    elif lid_height > thickness:\n",
    "        obj = obj - extrude(\n",
    "            Plane.XY.offset(lip_height).reverse() * lip_top_profile, lid_height\n",
    "        )\n",
    "    \n",
    "    if body_fillet > 0:\n",
    "        obj = fillet(obj.edges().filter_by(Axis.Z), body_fillet)\n",
    "    \n",
    "    if num_dividers > 0:\n",
    "        divider_cutout = extrude(Plane.XY.offset(lip_height) * divider_profile, -(inner_height + thickness / 2))\n",
    "\n",
    "        obj: Part = obj - reduce(lambda x, y: x + y, [\n",
    "            loc * divider_cutout for loc in GridLocations(inner_length / (num_dividers + 1), 1, num_dividers, 1)\n",
    "        ])\n",
    "\n",
    "    if chamfer_length > 0:\n",
    "        should_chamfer = partial(__is_outer_edge, x_bound=outer_length / 2, y_bound=outer_width / 2)\n",
    "        obj = chamfer(ShapeList(filter(should_chamfer, obj.edges())), chamfer_length, chamfer_length)\n",
    "        if num_dividers > 0:\n",
    "            should_fillet = partial(__is_inner_body_edge, x_bound=inner_length / 2, y_bound=inner_width / 2, thickness=thickness)\n",
    "            obj = fillet(ShapeList(filter(should_fillet, obj.edges().filter_by(Plane.YZ))), chamfer_length)\n",
    "    \n",
    "    return obj\n",
    "\n",
    "def make_lid(\n",
    "        length: float,\n",
    "        width: float,\n",
    "        thickness: float,\n",
    "        margin: float,\n",
    "        lid_height: float,\n",
    "        body_fillet: float,\n",
    "        chamfer_length: float,\n",
    "        outer_bound: bool =True\n",
    "    ):\n",
    "\n",
    "    # Dimension correction\n",
    "\n",
    "    if outer_bound:\n",
    "        outer_length, outer_width = length, width\n",
    "        lid_length, lid_width = length - thickness + margin / 2, width - thickness + margin / 2\n",
    "    else:\n",
    "        outer_length, outer_width = length + 2 * thickness, width + 2 * thickness\n",
    "        lid_length, lid_width = length + thickness + margin / 2, width + thickness + margin / 2\n",
    "\n",
    "    # Basic Shape\n",
    "\n",
    "    base_profile = Rectangle(outer_length, outer_width)\n",
    "    lid_top_profile = base_profile - Rectangle(lid_length, lid_width)\n",
    "    obj = extrude(\n",
    "        base_profile, thickness\n",
    "    )\n",
    "\n",
    "    # Lid correction\n",
    "\n",
    "    if lid_height < thickness:\n",
    "        obj = obj - extrude(\n",
    "            Plane.XY.offset(thickness).reverse() * lid_top_profile, lid_height\n",
    "        )\n",
    "    elif lid_height > thickness:\n",
    "        obj = obj + extrude(\n",
    "            Plane.XY.offset(thickness) * lid_top_profile, lid_height\n",
    "        )\n",
    "\n",
    "    # Fillet body\n",
    "\n",
    "    if body_fillet > 0:\n",
    "        obj = fillet(obj.edges().filter_by(Axis.Z), body_fillet)\n",
    "\n",
    "    # Chamfer edges\n",
    "\n",
    "    if chamfer_length > 0:\n",
    "        should_chamfer = partial(__is_outer_edge, x_bound=outer_length / 2, y_bound=outer_width / 2)\n",
    "        obj = chamfer(ShapeList(filter(should_chamfer, obj.edges())), chamfer_length, chamfer_length)\n",
    "\n",
    "    return obj\n",
    "\n",
    "def make_divider(divider_thickness, inner_width, inner_height, thickness):\n",
    "    return extrude(Rectangle(divider_thickness, inner_width), inner_height - thickness)"
   ]
  },
  {
   "cell_type": "code",
   "execution_count": 7,
   "id": "bfea82d5",
   "metadata": {},
   "outputs": [],
   "source": [
    "def assemble(\n",
    "        length, width, height, thickness, margin, lid_height, body_fillet, divider_thickness, num_dividers, chamfer_length, printable_orientation=True\n",
    "    ):\n",
    "    lid_pos = Pos((0,0,height)) * Rot((0,180,0)) if not printable_orientation else Pos((0, width + margin))\n",
    "    divider_pos = Pos((0,0,height - thickness)) * Rot((0,180,0)) if not printable_orientation else Pos((0, -width, divider_thickness / 2)) * Rot((0,90,0))\n",
    "    return (\n",
    "        make_body(\n",
    "            length, width, height, thickness, margin, lid_height, body_fillet, num_dividers, divider_thickness, chamfer_length\n",
    "        ),\n",
    "        lid_pos * make_lid(length, width, thickness, margin, lid_height, body_fillet, chamfer_length),\n",
    "        divider_pos * make_divider(divider_thickness, width - 2 * thickness, height - thickness, thickness)\n",
    "    )\n",
    "\n",
    "def show_assembly(length, width, height, thickness, margin, lid_height, body_fillet, divider_thickness, num_dividers, chamfer_length, printable_orientation):\n",
    "    show(\n",
    "        *assemble(length, width, height, thickness, margin, lid_height, body_fillet, divider_thickness, num_dividers, chamfer_length, printable_orientation),\n",
    "        *assemble(226, 86, height, thickness, margin, lid_height, body_fillet, divider_thickness, num_dividers, chamfer_length, printable_orientation),\n",
    "        names=[\"body\", \"lid\", \"divider\"] + [\"body\", \"lid\", \"divider\"],\n",
    "        ticks=30\n",
    "    )"
   ]
  },
  {
   "cell_type": "code",
   "execution_count": 8,
   "id": "4ba5a341",
   "metadata": {},
   "outputs": [
    {
     "name": "stdout",
     "output_type": "stream",
     "text": [
      "++++++\n"
     ]
    }
   ],
   "source": [
    "show_assembly(\n",
    "    LENGTH,\n",
    "    WIDTH,\n",
    "    HEIGHT,\n",
    "    THICKNESS,\n",
    "    MARGIN, LID_HEIGHT, BODY_FILLET, DIVIDER_THICKNESS, NUM_DIVIDERS, LIP_CHAMFER, False)"
   ]
  },
  {
   "cell_type": "code",
   "execution_count": 9,
   "id": "040b38b5",
   "metadata": {},
   "outputs": [],
   "source": [
    "LENGTH = 250\n",
    "WIDTH = 100\n",
    "HEIGHT = 32\n",
    "THICKNESS = 4.2\n",
    "LID_HEIGHT = 1.2\n",
    "MARGIN = 0.21\n",
    "BODY_FILLET = 2\n",
    "DIVIDER_THICKNESS = 1.26\n",
    "NUM_DIVIDERS = 11\n",
    "LIP_CHAMFER = 1"
   ]
  },
  {
   "cell_type": "code",
   "execution_count": 65,
   "id": "41aea093-ebdd-4b15-b65d-b9aedf394d61",
   "metadata": {},
   "outputs": [
    {
     "name": "stdout",
     "output_type": "stream",
     "text": [
      "++c\n"
     ]
    },
    {
     "data": {
      "text/plain": [
       "<cad_viewer_widget.widget.CadViewer at 0x22de62a1430>"
      ]
     },
     "execution_count": 65,
     "metadata": {},
     "output_type": "execute_result"
    }
   ],
   "source": [
    "body, lid, divider = assemble(\n",
    "    LENGTH,\n",
    "    WIDTH,\n",
    "    HEIGHT,\n",
    "    THICKNESS,\n",
    "    MARGIN,\n",
    "    LID_HEIGHT,\n",
    "    BODY_FILLET,\n",
    "    DIVIDER_THICKNESS,\n",
    "    NUM_DIVIDERS,\n",
    "    LIP_CHAMFER,\n",
    ")\n",
    "show(body, lid, divider)"
   ]
  },
  {
   "cell_type": "code",
   "execution_count": 11,
   "id": "c40aeac2-008b-4b27-a454-a0069e05e8d0",
   "metadata": {},
   "outputs": [],
   "source": [
    "from utilities.export import export\n",
    "from pathlib import Path\n",
    "\n",
    "body, lid, divider = assemble(60, 60, 30, THICKNESS, MARGIN, LID_HEIGHT, BODY_FILLET, DIVIDER_THICKNESS, NUM_DIVIDERS, LIP_CHAMFER)\n",
    "\n",
    "export(Path(\"outputs\") / \"Lockbox\" / \"60mmX60mmX30mm\", body, lid, divider)"
   ]
  },
  {
   "cell_type": "code",
   "execution_count": 66,
   "id": "d2911d04-deac-42fd-a4af-75e4c727d8ba",
   "metadata": {},
   "outputs": [
    {
     "data": {
      "text/plain": [
       "True"
      ]
     },
     "execution_count": 66,
     "metadata": {},
     "output_type": "execute_result"
    }
   ],
   "source": [
    "output_path : Path = Path(\"outputs\") / \"Lockbox\" / f\"{LENGTH}mmx{WIDTH}mmx{HEIGHT}mm\"\n",
    "output_path.mkdir(exist_ok=True)\n",
    "export_stl(body, output_path / \"body.stl\")\n",
    "export_stl(lid, output_path / \"lid.stl\")\n",
    "export_stl(divider, output_path / \"divider.stl\")"
   ]
  }
 ],
 "metadata": {
  "kernelspec": {
   "display_name": "Python 3 (ipykernel)",
   "language": "python",
   "name": "python3"
  },
  "language_info": {
   "codemirror_mode": {
    "name": "ipython",
    "version": 3
   },
   "file_extension": ".py",
   "mimetype": "text/x-python",
   "name": "python",
   "nbconvert_exporter": "python",
   "pygments_lexer": "ipython3",
   "version": "3.12.9"
  }
 },
 "nbformat": 4,
 "nbformat_minor": 5
}
