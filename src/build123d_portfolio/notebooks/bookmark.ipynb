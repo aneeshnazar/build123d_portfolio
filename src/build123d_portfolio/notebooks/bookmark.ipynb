{
 "cells": [
  {
   "cell_type": "code",
   "execution_count": 1,
   "id": "1fa538c1",
   "metadata": {},
   "outputs": [
    {
     "name": "stdout",
     "output_type": "stream",
     "text": [
      "Overwriting auto display for build123d BuildPart, BuildSketch, BuildLine, ShapeList\n"
     ]
    }
   ],
   "source": [
    "%load_ext autoreload\n",
    "%autoreload 2\n",
    "\n",
    "from jupyter_cadquery import set_defaults, show, Camera, Collapse\n",
    "from build123d import *\n",
    "from functools import partial\n",
    "import math\n",
    "\n",
    "Hexagon = partial(RegularPolygon, side_count=6)\n",
    "\n",
    "set_defaults(\n",
    "    viewer=\"Sidecar\",\n",
    "    edge_accuracy=0.0001,\n",
    "    ticks=25,\n",
    "    grid=[True, True, True],\n",
    "    cad_width=780,\n",
    "    axes=True,\n",
    "    axes0=True,\n",
    "    glass=True,\n",
    "    orbit_control=True,\n",
    "    reset_camera=Camera.CENTER,\n",
    "    collapse=Collapse.LEAVES\n",
    ")"
   ]
  },
  {
   "cell_type": "code",
   "execution_count": 34,
   "id": "009d458c-2613-435c-8e1f-188eb906ee82",
   "metadata": {},
   "outputs": [
    {
     "name": "stdout",
     "output_type": "stream",
     "text": [
      "+\n"
     ]
    },
    {
     "data": {
      "text/plain": [
       "<cad_viewer_widget.widget.CadViewer at 0x1fe7172c7d0>"
      ]
     },
     "execution_count": 34,
     "metadata": {},
     "output_type": "execute_result"
    }
   ],
   "source": [
    "def make_hex_cutout(width, length, margin=0.42, diameter=1):\n",
    "    corner_radius = diameter / 2\n",
    "    side_radius = (corner_radius * 3) / math.sqrt(3)\n",
    "    long_rows = math.floor(width / (diameter + corner_radius))\n",
    "    short_rows = long_rows + 1\n",
    "    row_length = math.ceil(length / side_radius)\n",
    "\n",
    "    locs = GridLocations(corner_radius * 3, side_radius, short_rows, row_length).locations + GridLocations(corner_radius * 3, side_radius, long_rows, row_length + 1).locations\n",
    "    polygons = ShapeList([loc * Hexagon(corner_radius - margin) for loc in locs])\n",
    "\n",
    "    return Rectangle(width, length) & polygons\n",
    "\n",
    "def make_bookmark(svg, mult):\n",
    "    width = 36\n",
    "    length = 136\n",
    "    height = 1.4\n",
    "\n",
    "    thickness = 4\n",
    "    gap_width = 2\n",
    "    cutout_tip = 33\n",
    "    grate_thickness = 0.42 * 3\n",
    "    if type(svg) is Face:\n",
    "        f = scale(svg, mult)\n",
    "        centered_cutout = (make_hex_cutout(width - thickness * 3, width - thickness * 3, diameter=thickness)) - (Pos(-f.center()) * f)\n",
    "        cutout = extrude(centered_cutout, height)\n",
    "    elif svg is not None:\n",
    "        f = scale(-Face(svg[0]), mult)\n",
    "\n",
    "        centered_cutout = (Pos(-f.center()) * f)\n",
    "        cutout = extrude(centered_cutout, height)\n",
    "    else:\n",
    "        cutout = extrude(make_hex_cutout(width - thickness * 3, width - thickness * 3, diameter=thickness * 4, margin=grate_thickness), height)\n",
    "    tongue_cutout = extrude(Pos(0, -cutout_tip * 0.485, 0) * make_hex_cutout(\n",
    "        width - 2 * (1.75 * thickness + gap_width),\n",
    "        length - cutout_tip - 2 * (1.75 * thickness + gap_width),\n",
    "        diameter=thickness * 2,\n",
    "        margin=grate_thickness\n",
    "    ), height)\n",
    "    base_shape = extrude(RectangleRounded(width, length, 2), height) - extrude(Face(\n",
    "        FilletPolyline(\n",
    "        (width/2 - (thickness + gap_width), cutout_tip),\n",
    "        (width/2 - thickness, cutout_tip),\n",
    "        (width/2 - thickness, -(length / 2 - thickness)),\n",
    "        (-(width/2 - thickness), -(length / 2 - thickness)),\n",
    "        (-(width/2 - thickness), cutout_tip),\n",
    "        (-(width/2 - (thickness + gap_width)), cutout_tip),\n",
    "        (-(width/2 - (thickness + gap_width)),  -(length / 2 - (thickness + gap_width))),\n",
    "        ((width/2 - (thickness + gap_width)),  -(length / 2 - (thickness + gap_width))),\n",
    "        radius=0.999, close=True)\n",
    "    ), -height) - tongue_cutout\n",
    "    return base_shape - Pos(0, length / 3 + 5, 0) * cutout\n",
    "\n",
    "bm = make_bookmark(None, 1)\n",
    "show(bm)"
   ]
  },
  {
   "cell_type": "code",
   "execution_count": 35,
   "id": "b893129a-189d-4db7-8763-81a3cb432ab2",
   "metadata": {},
   "outputs": [
    {
     "data": {
      "text/plain": [
       "True"
      ]
     },
     "execution_count": 35,
     "metadata": {},
     "output_type": "execute_result"
    }
   ],
   "source": [
    "export_stl(bm, \"outputs/bookmark.stl\")"
   ]
  },
  {
   "cell_type": "code",
   "execution_count": null,
   "id": "e3e98e1b-1816-4cc1-a7d7-c6d1b810a8de",
   "metadata": {},
   "outputs": [],
   "source": []
  }
 ],
 "metadata": {
  "kernelspec": {
   "display_name": "Python 3 (ipykernel)",
   "language": "python",
   "name": "python3"
  },
  "language_info": {
   "codemirror_mode": {
    "name": "ipython",
    "version": 3
   },
   "file_extension": ".py",
   "mimetype": "text/x-python",
   "name": "python",
   "nbconvert_exporter": "python",
   "pygments_lexer": "ipython3",
   "version": "3.12.9"
  }
 },
 "nbformat": 4,
 "nbformat_minor": 5
}
