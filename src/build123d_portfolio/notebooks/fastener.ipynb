{
 "cells": [
  {
   "cell_type": "markdown",
   "id": "38a97a7b-381a-4e0f-8fac-a13da7be3529",
   "metadata": {},
   "source": [
    "# Imports\n",
    "\n",
    "< In the table of contents, right-click on \"Imports\" and click \"Select and Run Cells for this heading\" to get started"
   ]
  },
  {
   "cell_type": "code",
   "execution_count": 1,
   "id": "1fa538c1",
   "metadata": {},
   "outputs": [
    {
     "name": "stdout",
     "output_type": "stream",
     "text": [
      "Overwriting auto display for build123d BuildPart, BuildSketch, BuildLine, ShapeList\n"
     ]
    }
   ],
   "source": [
    "%load_ext autoreload\n",
    "%autoreload 2\n",
    "\n",
    "from jupyter_cadquery import set_defaults, show, Camera, Collapse\n",
    "from build123d import *\n",
    "import math\n",
    "from enum import Enum\n",
    "\n",
    "set_defaults(\n",
    "\tviewer=\"Sidecar\",\n",
    "\tedge_accuracy=0.0001,\n",
    "\tticks=25,\n",
    "\tgrid=[True, True, True],\n",
    "\tcad_width=780,\n",
    "\taxes=True,\n",
    "\taxes0=True,\n",
    "\tglass=True,\n",
    "\torbit_control=True,\n",
    "\treset_camera=Camera.CENTER,\n",
    "\tcollapse=Collapse.LEAVES\n",
    ")"
   ]
  },
  {
   "cell_type": "markdown",
   "id": "7f1ed6f9-53c2-4819-a3d5-a9ee09138e4d",
   "metadata": {},
   "source": [
    "# Variables"
   ]
  },
  {
   "cell_type": "code",
   "execution_count": 2,
   "id": "0809b7aa-385c-4712-83c9-cdbe53639254",
   "metadata": {},
   "outputs": [],
   "source": [
    "SCREW_SHAFT_DIAM = 5\n",
    "SCREW_HEAD_DIAM = 8.6\n",
    "SCREW_HEAD_LENGTH = 5.2\n",
    "SCREW_SHAFT_LENGTH = 25\n",
    "WASHER_THICKNESS = 1\n",
    "NUT_DIAM = 7.9"
   ]
  },
  {
   "cell_type": "code",
   "execution_count": 3,
   "id": "854541f7-3713-4e38-9b0e-d7cdf80ada4e",
   "metadata": {},
   "outputs": [],
   "source": [
    "SCREW_HEAD_RADIUS = SCREW_HEAD_DIAM / 2\n",
    "SCREW_SHAFT_RADIUS = SCREW_SHAFT_DIAM / 2\n",
    "NUT_RADIUS = NUT_DIAM / 2\n",
    "\n",
    "GOLD=(232, 176, 36)\n",
    "GRAY=(170, 170, 170)"
   ]
  },
  {
   "cell_type": "code",
   "execution_count": 5,
   "id": "a5447bf3-dea7-477c-b6ec-d922a756146a",
   "metadata": {},
   "outputs": [
    {
     "name": "stdout",
     "output_type": "stream",
     "text": [
      "+\n"
     ]
    }
   ],
   "source": [
    "from components.fasteners.hex import HexBoreHole\n",
    "\n",
    "HexBoreHole(SCREW_SHAFT_RADIUS, SCREW_HEAD_RADIUS, SCREW_HEAD_LENGTH, SCREW_SHAFT_LENGTH)"
   ]
  },
  {
   "cell_type": "markdown",
   "id": "1364e1dc-3c72-4137-b817-e1889f680667",
   "metadata": {},
   "source": [
    "# Class Definitions"
   ]
  },
  {
   "cell_type": "code",
   "execution_count": 6,
   "id": "143b85d5-7689-446e-bbf8-bdb2ed67975b",
   "metadata": {
    "vscode": {
     "languageId": "plaintext"
    }
   },
   "outputs": [],
   "source": [
    "class BoltHeadType(Enum):\n",
    "    Socket = 0\n",
    "    Flat = 1\n",
    "    Round = 2\n",
    "    Hex = 3\n",
    "\n",
    "class NutType(Enum):\n",
    "    Hex = 0\n",
    "    Cap = 1\n",
    "    Wing = 2\n",
    "    Square = 3\n",
    "    TSlot = 4\n",
    "\n",
    "class WasherType(Enum):\n",
    "    Flat = 0\n",
    "    SplitLock = 1\n",
    "    Square = 2\n",
    "\n",
    "class DriveType(Enum):\n",
    "    Hex = 0\n",
    "    Square = 1\n",
    "    Star = 2\n",
    "    Flat = 3"
   ]
  },
  {
   "cell_type": "code",
   "execution_count": 7,
   "id": "86cff79e-1fed-41cd-896a-f9b21b42c57d",
   "metadata": {
    "vscode": {
     "languageId": "plaintext"
    }
   },
   "outputs": [],
   "source": [
    "class Nut(BasePartObject):\n",
    "    def __init__(\n",
    "        self,\n",
    "        outer_radius,\n",
    "        inner_radius, \n",
    "        thickness,\n",
    "        nut_type: NutType = NutType.Hex,\n",
    "        rotation: VectorLike = (0,0,0),\n",
    "        mode : Mode = Mode.ADD\n",
    "    ):\n",
    "        with BuildPart() as b:\n",
    "            with BuildSketch() as hex_profile:\n",
    "                match nut_type:\n",
    "                    case NutType.Hex | _:\n",
    "                        RegularPolygon(outer_radius, 6, major_radius=False)\n",
    "                Circle(inner_radius, mode=Mode.SUBTRACT)\n",
    "            extrude(amount=thickness)\n",
    "        super().__init__(part=b.part, rotation=rotation, mode=mode)"
   ]
  },
  {
   "cell_type": "code",
   "execution_count": 8,
   "id": "a098d9c7-ab2a-4ed6-95ef-8f20ce75da7e",
   "metadata": {
    "vscode": {
     "languageId": "plaintext"
    }
   },
   "outputs": [],
   "source": [
    "class Washer(BasePartObject):\n",
    "    def __init__(\n",
    "        self,\n",
    "        outer_radius,\n",
    "        inner_radius,\n",
    "        thickness,\n",
    "        washer_type: WasherType = WasherType.Flat,\n",
    "        rotation: VectorLike = (0,0,0),\n",
    "        mode: Mode = Mode.ADD\n",
    "    ):\n",
    "        with BuildPart() as b:\n",
    "            Cylinder(outer_radius, thickness, align=(Align.CENTER, Align.CENTER, Align.MIN))\n",
    "            Cylinder(inner_radius, thickness, mode=Mode.SUBTRACT, align=(Align.CENTER, Align.CENTER, Align.MIN))\n",
    "        super().__init__(part=b.part, rotation=rotation, mode=mode)"
   ]
  },
  {
   "cell_type": "code",
   "execution_count": 9,
   "id": "ea04eefc-f489-407b-a345-5528cef7a35f",
   "metadata": {
    "vscode": {
     "languageId": "plaintext"
    }
   },
   "outputs": [],
   "source": [
    "class Bolt(BasePartObject):\n",
    "    def __init__(\n",
    "        self,\n",
    "        shaft_length,\n",
    "        shaft_radius,\n",
    "        head_length,\n",
    "        head_radius,\n",
    "        head_type: BoltHeadType = BoltHeadType.Socket,\n",
    "        integrated_washer: bool = False,\n",
    "        thread: bool = False,\n",
    "        rotation: VectorLike = (0,0,0),\n",
    "        mode : Mode = Mode.ADD\n",
    "    ):\n",
    "        with BuildPart() as b:\n",
    "            match head_type:\n",
    "                case BoltHeadType.Flat:\n",
    "                    Cone(shaft_radius, head_radius, head_length, align=(Align.CENTER, Align.CENTER, Align.MIN))\n",
    "                case BoltHeadType.Round:\n",
    "                    with BuildSketch(Plane.XZ):\n",
    "                        with BuildLine():\n",
    "                            EllipticalCenterArc((0,0), head_radius, head_length)\n",
    "                            Line((0,0), (head_radius, 0))\n",
    "                            Line((0,0), (0, head_length))\n",
    "                        make_face()\n",
    "                    revolve(axis=Axis.Z)\n",
    "                case BoltHeadType.Hex:\n",
    "                    with BuildSketch():\n",
    "                        RegularPolygon(head_radius, 6, major_radius=False)\n",
    "                    extrude(amount=head_length)\n",
    "                case BoltHeadType.Socket | _:\n",
    "                    Cylinder(\n",
    "                        head_radius,\n",
    "                        head_length,\n",
    "                        align=(Align.CENTER, Align.CENTER, Align.MIN)\n",
    "                    )\n",
    "            Cylinder(\n",
    "                shaft_radius,\n",
    "                shaft_length,\n",
    "                align=(Align.CENTER, Align.CENTER, Align.MAX)\n",
    "            )\n",
    "        super().__init__(part=b.part, rotation=rotation, mode=mode)"
   ]
  },
  {
   "cell_type": "code",
   "execution_count": 10,
   "id": "9259ecc5-12a8-4462-b9e0-d71195c752b4",
   "metadata": {
    "vscode": {
     "languageId": "plaintext"
    }
   },
   "outputs": [],
   "source": [
    "class HexBoreHole(BasePartObject):\n",
    "    def __init__(\n",
    "        self,\n",
    "        radius: float,\n",
    "        hex_radius: float,\n",
    "        counter_bore_depth: float,\n",
    "        depth: float | None,\n",
    "        rotation: VectorLike = (0, 0, 0),\n",
    "        mode: Mode = Mode.SUBTRACT\n",
    "    ):\n",
    "        context = BuildPart._get_context(self)\n",
    "\n",
    "        self.radius = radius\n",
    "        self.hex_radius = hex_radius\n",
    "        self.counter_bore_depth = counter_bore_depth\n",
    "        if depth is not None:\n",
    "            self.hole_depth = depth\n",
    "        elif depth is None and context is not None:\n",
    "            self.hole_depth = context.max_dimension\n",
    "        else:\n",
    "            raise ValueError(\"No depth provided\")\n",
    "\n",
    "        with BuildPart() as b:\n",
    "            with BuildPart() as hex_nut:\n",
    "                with BuildSketch():\n",
    "                    RegularPolygon(self.hex_radius, 6)\n",
    "                extrude(amount=-self.counter_bore_depth)\n",
    "            Cylinder(self.radius, self.hole_depth, align=(Align.CENTER, Align.CENTER, Align.MAX))\n",
    "        super().__init__(part=b.part, rotation=rotation, mode=mode)"
   ]
  },
  {
   "cell_type": "markdown",
   "id": "1565bdf4-c9b9-4829-bff4-84cbd0871936",
   "metadata": {},
   "source": [
    "# Scratch"
   ]
  },
  {
   "cell_type": "code",
   "execution_count": 11,
   "id": "c72a032c-0120-4c96-bd18-a75f2269098b",
   "metadata": {},
   "outputs": [
    {
     "name": "stdout",
     "output_type": "stream",
     "text": [
      "+++\n"
     ]
    },
    {
     "data": {
      "text/plain": [
       "<cad_viewer_widget.widget.CadViewer at 0x13645177f20>"
      ]
     },
     "execution_count": 11,
     "metadata": {},
     "output_type": "execute_result"
    }
   ],
   "source": [
    "show(\n",
    "    Washer(SCREW_HEAD_DIAM, SCREW_SHAFT_RADIUS, WASHER_THICKNESS),\n",
    "    Plane.XY.offset(WASHER_THICKNESS) * Bolt(SCREW_SHAFT_LENGTH, SCREW_SHAFT_RADIUS, SCREW_HEAD_LENGTH / 2, SCREW_HEAD_RADIUS, head_type=BoltHeadType.Round),\n",
    "    Plane.XY.offset(-SCREW_SHAFT_LENGTH + WASHER_THICKNESS) * Nut(NUT_RADIUS, SCREW_SHAFT_RADIUS, SCREW_HEAD_LENGTH / 2),\n",
    "    names=[\"Washer\", \"Bolt\", \"Nut\"],\n",
    "    colors=[GRAY, GRAY, GRAY]\n",
    ")"
   ]
  },
  {
   "cell_type": "code",
   "execution_count": null,
   "id": "d32edfdc-97c8-4151-9087-70af18a79175",
   "metadata": {},
   "outputs": [],
   "source": []
  }
 ],
 "metadata": {
  "kernelspec": {
   "display_name": "Python 3 (ipykernel)",
   "language": "python",
   "name": "python3"
  },
  "language_info": {
   "codemirror_mode": {
    "name": "ipython",
    "version": 3
   },
   "file_extension": ".py",
   "mimetype": "text/x-python",
   "name": "python",
   "nbconvert_exporter": "python",
   "pygments_lexer": "ipython3",
   "version": "3.12.9"
  }
 },
 "nbformat": 4,
 "nbformat_minor": 5
}
