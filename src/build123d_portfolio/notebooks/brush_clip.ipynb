{
 "cells": [
  {
   "cell_type": "code",
   "execution_count": 1,
   "id": "1fa538c1",
   "metadata": {},
   "outputs": [
    {
     "name": "stdout",
     "output_type": "stream",
     "text": [
      "Overwriting auto display for build123d BuildPart, BuildSketch, BuildLine, ShapeList\n"
     ]
    }
   ],
   "source": [
    "%load_ext autoreload\n",
    "%autoreload 2\n",
    "\n",
    "from jupyter_cadquery import set_defaults, show, Camera, Collapse\n",
    "from build123d import *\n",
    "\n",
    "set_defaults(\n",
    "\tviewer=\"Sidecar\",\n",
    "\tedge_accuracy=0.0001,\n",
    "\tticks=25,\n",
    "\tgrid=[True, True, True],\n",
    "\tcad_width=780,\n",
    "\taxes=True,\n",
    "\taxes0=True,\n",
    "\tglass=True,\n",
    "\torbit_control=True,\n",
    "\treset_camera=Camera.CENTER,\n",
    "\tcollapse=Collapse.LEAVES\n",
    ")"
   ]
  },
  {
   "cell_type": "code",
   "execution_count": 53,
   "id": "f28324ef",
   "metadata": {
    "vscode": {
     "languageId": "plaintext"
    }
   },
   "outputs": [],
   "source": [
    "LENGTH = 40\n",
    "WIDTH = 20\n",
    "HEIGHT = 40\n",
    "RADIUS1 = 8\n",
    "RADIUS2 = 8\n",
    "RADIUS3 = 7\n",
    "RADIUS4 = 8"
   ]
  },
  {
   "cell_type": "code",
   "execution_count": 55,
   "id": "24722fdf-184e-4828-80ea-d4f0405b1635",
   "metadata": {},
   "outputs": [
    {
     "name": "stdout",
     "output_type": "stream",
     "text": [
      "+\n"
     ]
    }
   ],
   "source": [
    "with BuildPart() as p:\n",
    "    with BuildSketch() as s:\n",
    "        with BuildLine() as l:\n",
    "            Line((0, 0), (LENGTH / 2, 0))\n",
    "            ThreePointArc((LENGTH / 2, 0), ((LENGTH + WIDTH) / 2, -WIDTH / 2), (LENGTH /2, -WIDTH))\n",
    "            Line((LENGTH / 2, -WIDTH), (0, -WIDTH))\n",
    "            mirror(l.line, about=Plane.YZ)\n",
    "        make_face()\n",
    "    extrude(amount=HEIGHT)\n",
    "    with Locations((-LENGTH / 2 + RADIUS1, -RADIUS1 * 0.52, 0)):\n",
    "        if RADIUS1 != RADIUS2:\n",
    "            Cone(RADIUS1, RADIUS2, HEIGHT, align=(Align.CENTER, Align.CENTER, Align.MIN), mode=Mode.SUBTRACT)\n",
    "        else:\n",
    "            Cylinder(RADIUS1, HEIGHT, align=(Align.CENTER, Align.CENTER, Align.MIN), mode=Mode.SUBTRACT)\n",
    "    with Locations((LENGTH / 2 - RADIUS1, -RADIUS1 * 0.52, 0)):\n",
    "        if RADIUS3 != RADIUS4:\n",
    "            Cone(RADIUS3, RADIUS4, HEIGHT, align=(Align.CENTER, Align.CENTER, Align.MIN), mode=Mode.SUBTRACT)\n",
    "        else:\n",
    "            Cylinder(RADIUS3, HEIGHT, align=(Align.CENTER, Align.CENTER, Align.MIN), mode=Mode.SUBTRACT)\n",
    "\n",
    "p"
   ]
  },
  {
   "cell_type": "code",
   "execution_count": null,
   "id": "16524afe-f856-41b0-a609-1a1cdd67fc83",
   "metadata": {},
   "outputs": [],
   "source": []
  }
 ],
 "metadata": {
  "kernelspec": {
   "display_name": "Python (build123d projects)",
   "language": "python",
   "name": "build123d-portfolio-kernel"
  },
  "language_info": {
   "codemirror_mode": {
    "name": "ipython",
    "version": 3
   },
   "file_extension": ".py",
   "mimetype": "text/x-python",
   "name": "python",
   "nbconvert_exporter": "python",
   "pygments_lexer": "ipython3",
   "version": "3.12.9"
  }
 },
 "nbformat": 4,
 "nbformat_minor": 5
}
