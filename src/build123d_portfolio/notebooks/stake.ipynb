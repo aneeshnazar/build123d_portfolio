{
 "cells": [
  {
   "cell_type": "code",
   "execution_count": 1,
   "id": "1fa538c1",
   "metadata": {},
   "outputs": [
    {
     "name": "stdout",
     "output_type": "stream",
     "text": [
      "Overwriting auto display for build123d BuildPart, BuildSketch, BuildLine, ShapeList\n"
     ]
    }
   ],
   "source": [
    "%load_ext autoreload\n",
    "%autoreload 2\n",
    "\n",
    "from jupyter_cadquery import set_defaults, show, Camera, Collapse\n",
    "from build123d import *\n",
    "\n",
    "set_defaults(\n",
    "\tviewer=\"Sidecar\",\n",
    "\tedge_accuracy=0.0001,\n",
    "\tticks=25,\n",
    "\tgrid=[True, True, True],\n",
    "\tcad_width=780,\n",
    "\taxes=True,\n",
    "\taxes0=True,\n",
    "\tglass=True,\n",
    "\torbit_control=True,\n",
    "\treset_camera=Camera.CENTER,\n",
    "\tcollapse=Collapse.LEAVES\n",
    ")"
   ]
  },
  {
   "cell_type": "code",
   "execution_count": 61,
   "id": "f28324ef",
   "metadata": {
    "vscode": {
     "languageId": "plaintext"
    }
   },
   "outputs": [],
   "source": [
    "LENGTH = 90\n",
    "STAKE_RADIUS = 4\n",
    "TAPER_RADIUS = 1.5\n",
    "TOP_RADIUS = 10\n",
    "TOP_LENGTH = 8\n",
    "CURVATURE = 0.8"
   ]
  },
  {
   "cell_type": "code",
   "execution_count": 62,
   "id": "3fe506ba-bdf2-4fb3-b7ad-727255f75abc",
   "metadata": {},
   "outputs": [
    {
     "name": "stdout",
     "output_type": "stream",
     "text": [
      "+\n"
     ]
    },
    {
     "data": {
      "text/plain": [
       "<cad_viewer_widget.widget.CadViewer at 0x2bd383f7080>"
      ]
     },
     "execution_count": 62,
     "metadata": {},
     "output_type": "execute_result"
    }
   ],
   "source": [
    "curvature_amount = (TOP_RADIUS - STAKE_RADIUS) * CURVATURE + STAKE_RADIUS\n",
    "\n",
    "profile = Polyline(\n",
    "    (0,0),\n",
    "    (TAPER_RADIUS, 0),\n",
    "    (STAKE_RADIUS, LENGTH)\n",
    ") + ThreePointArc(\n",
    "    (STAKE_RADIUS, LENGTH),\n",
    "    (curvature_amount, LENGTH + TOP_LENGTH / 2),\n",
    "    (TOP_RADIUS, LENGTH + TOP_LENGTH)\n",
    ") + Line((TOP_RADIUS, LENGTH + TOP_LENGTH),(0, LENGTH + TOP_LENGTH))\n",
    "\n",
    "cutter = Pos(STAKE_RADIUS, LENGTH,0) * Box(TOP_RADIUS - STAKE_RADIUS, TOP_LENGTH, TOP_RADIUS * 2, align=(Align.MIN, Align.MIN, Align.CENTER))\n",
    "\n",
    "stake = revolve(Face(profile.close()), Axis.Y) - cutter\n",
    "\n",
    "show(stake)"
   ]
  },
  {
   "cell_type": "code",
   "execution_count": 63,
   "id": "424541fa-2ac5-4029-a269-f358af1faa16",
   "metadata": {},
   "outputs": [
    {
     "data": {
      "text/plain": [
       "True"
      ]
     },
     "execution_count": 63,
     "metadata": {},
     "output_type": "execute_result"
    }
   ],
   "source": [
    "export_stl(stake, \"./outputs/stake.stl\")"
   ]
  },
  {
   "cell_type": "code",
   "execution_count": null,
   "id": "15f579a7-af9a-44b8-8f0f-b0bb1c0de550",
   "metadata": {},
   "outputs": [],
   "source": []
  }
 ],
 "metadata": {
  "kernelspec": {
   "display_name": "Python 3 (ipykernel)",
   "language": "python",
   "name": "python3"
  },
  "language_info": {
   "codemirror_mode": {
    "name": "ipython",
    "version": 3
   },
   "file_extension": ".py",
   "mimetype": "text/x-python",
   "name": "python",
   "nbconvert_exporter": "python",
   "pygments_lexer": "ipython3",
   "version": "3.12.9"
  }
 },
 "nbformat": 4,
 "nbformat_minor": 5
}
