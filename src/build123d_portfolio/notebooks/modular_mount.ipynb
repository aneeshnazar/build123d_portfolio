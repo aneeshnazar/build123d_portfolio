{
 "cells": [
  {
   "cell_type": "code",
   "execution_count": 1,
   "id": "1fa538c1",
   "metadata": {
    "editable": true,
    "slideshow": {
     "slide_type": ""
    },
    "tags": []
   },
   "outputs": [
    {
     "name": "stdout",
     "output_type": "stream",
     "text": [
      "Overwriting auto display for build123d BuildPart, BuildSketch, BuildLine, ShapeList\n"
     ]
    }
   ],
   "source": [
    "%load_ext autoreload\n",
    "%autoreload 2\n",
    "\n",
    "from jupyter_cadquery import set_defaults, show, Camera, Collapse\n",
    "from build123d import *\n",
    "from enum import Enum\n",
    "from functools import reduce\n",
    "import math\n",
    "\n",
    "\n",
    "set_defaults(\n",
    "\tviewer=\"Sidecar\",\n",
    "\tedge_accuracy=0.0001,\n",
    "\tticks=25,\n",
    "\tgrid=[True, True, True],\n",
    "\tcad_width=780,\n",
    "\taxes=True,\n",
    "\taxes0=True,\n",
    "\tglass=True,\n",
    "\torbit_control=True,\n",
    "\treset_camera=Camera.CENTER,\n",
    "\tcollapse=Collapse.LEAVES\n",
    ")"
   ]
  },
  {
   "cell_type": "code",
   "execution_count": 2,
   "id": "f28324ef",
   "metadata": {
    "editable": true,
    "slideshow": {
     "slide_type": ""
    },
    "tags": [],
    "vscode": {
     "languageId": "plaintext"
    }
   },
   "outputs": [],
   "source": [
    "WIDTH = 40\n",
    "LENGTH = 145\n",
    "SCREW_RADIUS = 2.5\n",
    "CLEARANCE=0.2\n",
    "INNER_CHAMFER = 10\n",
    "OUTER_CHAMFER = 4\n",
    "\n",
    "NUM_LIPS = 5\n"
   ]
  },
  {
   "cell_type": "code",
   "execution_count": 3,
   "id": "721c8ee5-43f2-4ea1-b2fc-35cf8afe2045",
   "metadata": {
    "editable": true,
    "jupyter": {
     "source_hidden": true
    },
    "slideshow": {
     "slide_type": ""
    },
    "tags": []
   },
   "outputs": [
    {
     "name": "stdout",
     "output_type": "stream",
     "text": [
      "+\n"
     ]
    },
    {
     "data": {
      "text/plain": [
       "<cad_viewer_widget.widget.CadViewer at 0x24bc46387d0>"
      ]
     },
     "execution_count": 3,
     "metadata": {},
     "output_type": "execute_result"
    }
   ],
   "source": [
    "class SocketConfig(Enum):\n",
    "    MALE=0\n",
    "    FEMALE=1\n",
    "\n",
    "class CenterConfig(Enum):\n",
    "    CENTER=0\n",
    "    LEFT=1\n",
    "    RIGHT=2\n",
    "\n",
    "class ModularMountingSegment:\n",
    "    class Profiles:\n",
    "        def __init__(self, radius, lip_length, tip, outer_chamfer, inner_chamfer, chamfered_radius):\n",
    "            self.mount_bound = (ThreePointArc(\n",
    "                (-radius, 0),\n",
    "                (0, radius),\n",
    "                (radius, 0)\n",
    "            ) + Line(\n",
    "                (radius, tip),\n",
    "                (radius, 0)\n",
    "            ) + Line(\n",
    "                (-radius, tip),\n",
    "                (-radius, 0)\n",
    "            ))\n",
    "\n",
    "            self.chamfered_bound = (ThreePointArc(\n",
    "                (-chamfered_radius, 0),\n",
    "                (0, chamfered_radius),\n",
    "                (chamfered_radius, 0)\n",
    "            ) + Line(\n",
    "                (chamfered_radius, tip),\n",
    "                (chamfered_radius, 0)\n",
    "            ) + Line(\n",
    "                (-chamfered_radius, tip),\n",
    "                (-chamfered_radius, 0)\n",
    "            )).wire().close()\n",
    "\n",
    "            self.cutter_profile = (Polyline([\n",
    "                (radius, -lip_length),\n",
    "                (radius, tip),\n",
    "                (0, -lip_length),\n",
    "                (-radius, tip),\n",
    "                (-radius, -lip_length)\n",
    "            ]) + self.mount_bound).wire().close()\n",
    "\n",
    "            width = radius * 2\n",
    "            rect = Rectangle(width, width).wire()\n",
    "            \n",
    "            self.outer_profile = Face(rect.chamfer_2d(outer_chamfer, outer_chamfer, rect.vertices()))\n",
    "            self.inner_profile = Face(rect.chamfer_2d(inner_chamfer, inner_chamfer, rect.vertices()))\n",
    "\n",
    "    def __init__(self, length, width, clearance=CLEARANCE, screw_radius=SCREW_RADIUS, planar=True, sockets=(SocketConfig.MALE, SocketConfig.FEMALE)):\n",
    "        self.length = length\n",
    "        self.width = width\n",
    "        self.clearance = clearance\n",
    "        self.inner_chamfer = width / 5\n",
    "        self.outer_chamfer = width / 10\n",
    "\n",
    "        self._bar_length = self.length - (5 * width / 2)\n",
    "\n",
    "        self._socket_pos = self._bar_length / 2\n",
    "        self._chamfer_pos = self._socket_pos - 2 * self.inner_chamfer\n",
    "\n",
    "        self.radius = self.width / 2\n",
    "        self.lip_length = self.radius * 1.5\n",
    "        self._tip = self.lip_length + self.radius\n",
    "        self._chamfered_radius = self.radius - self.outer_chamfer\n",
    "\n",
    "        self.profiles = self.Profiles(self.radius, self.lip_length, -self._tip, self.outer_chamfer, self.inner_chamfer, self._chamfered_radius)\n",
    "        self.sockets = sockets\n",
    "        self.is_planar = planar\n",
    "        \n",
    "        self.screw_hole_pos = self.length / 2\n",
    "        self.screw_radius = screw_radius\n",
    "\n",
    "    def _sockets(self):\n",
    "        screw_cutter = Rot(90, 0, 0) * Cylinder(self.screw_radius, self.width)\n",
    "        cutter = Rot(90,0,0) * Pos(0,0, -self.outer_chamfer - self.clearance / 2) * extrude(-Face(self.profiles.cutter_profile), -self.inner_chamfer - self.clearance)\n",
    "        f_cutter = Pos(0, -self.inner_chamfer, 0) * cutter + Pos(0, self.inner_chamfer, 0) * cutter + screw_cutter\n",
    "        m_cutter = cutter + Pos(0, 2 * self.inner_chamfer, 0) * cutter + Pos(0, -2 * self.inner_chamfer, 0) * cutter + screw_cutter\n",
    "\n",
    "        base_sock = Rot(90, 0, 0) * loft([\n",
    "            Pos(0, 0, self.radius) * Face(self.profiles.chamfered_bound),\n",
    "            Pos(0, 0, self._chamfered_radius) * Face(self.profiles.mount_bound.wire().close()),\n",
    "            Pos(0, 0, -self._chamfered_radius) * Face(self.profiles.mount_bound.wire().close()),\n",
    "            Pos(0, 0, -self.radius) * Face(self.profiles.chamfered_bound),\n",
    "        ], ruled=True) + extrude(Pos(0,0, -self.radius) * self.profiles.outer_profile, -self.radius)\n",
    "        m_sock, f_sock = base_sock - m_cutter, base_sock - f_cutter\n",
    "\n",
    "        try:\n",
    "            m_sock = m_sock.fillet(self.outer_chamfer, m_sock.edges().filter_by(Axis.Y).filter_by_position(Axis.Z, -self.lip_length, -self.lip_length))\n",
    "            f_sock = f_sock.fillet(self.outer_chamfer, f_sock.edges().filter_by(Axis.Y).filter_by_position(Axis.Z, -self.lip_length, -self.lip_length))\n",
    "\n",
    "            m_sock = m_sock.fillet(self.outer_chamfer / 2, m_sock.faces().filter_by(Plane.XZ).edges() - (m_sock.edges().filter_by(Axis.X) + m_sock.edges().filter_by(Axis.Z).filter_by_position(Axis.Z, -self.width * 2, -self.width)))\n",
    "            f_sock = f_sock.fillet(\n",
    "                self.outer_chamfer / 2,\n",
    "                f_sock.faces().filter_by(Plane.XZ).edges().filter_by_position(Axis.Y, -self.radius, self.radius, (False, False)) + f_sock.edges().filter_by_func(lambda x: x.geom_type == GeomType.CIRCLE and x.radius == self.screw_radius)\n",
    "            )\n",
    "        except:\n",
    "            pass\n",
    "\n",
    "        finally:\n",
    "            return Pos(0,0,self._tip) * m_sock, Pos(0,0,self._tip) * f_sock\n",
    "\n",
    "    def _bar(self):\n",
    "        if self._socket_pos <= 0:\n",
    "            return Part()\n",
    "        \n",
    "        if self._chamfer_pos <= 0:\n",
    "            return loft([\n",
    "                Pos(0, 0, -self._socket_pos) * self.profiles.outer_profile,\n",
    "                Pos(0, 0, self._socket_pos) * self.profiles.outer_profile\n",
    "            ], ruled=True)\n",
    "        return loft([\n",
    "            Pos(0, 0, -self._socket_pos) * self.profiles.outer_profile,\n",
    "            Pos(0, 0, -self._chamfer_pos) * self.profiles.inner_profile,\n",
    "            Pos(0, 0,  self._chamfer_pos) * self.profiles.inner_profile,\n",
    "            Pos(0, 0,  self._socket_pos) * self.profiles.outer_profile\n",
    "        ], ruled=True)\n",
    "\n",
    "    def __repr__(self):\n",
    "        return f\"<{self.length=}, {self._bar_length=}, {self.width=}, {self._socket_pos=}, {self._chamfer_pos=}>\"\n",
    "\n",
    "    def construct(self):\n",
    "        m, f = self._sockets()\n",
    "        mapping = {SocketConfig.MALE: m, SocketConfig.FEMALE: f}\n",
    "        b = Rot(90,0,0) * self._bar()\n",
    "        s1 = Pos(0, -self._socket_pos, 0) * Rot(90, 0, 90) * mapping[self.sockets[1]]\n",
    "        s2 = Pos(0, self._socket_pos, 0) * Rot(-90, 0, 90 if self.is_planar else 0) * mapping[self.sockets[0]]\n",
    "        return b + s1 + s2\n",
    "    \n",
    "    def place_at(self, center: CenterConfig):\n",
    "        segment = self.construct()\n",
    "        if center == CenterConfig.RIGHT:\n",
    "            return Pos(0, -self.screw_hole_pos, 0) * segment\n",
    "        elif center == CenterConfig.LEFT:\n",
    "            return Pos(0, self.screw_hole_pos, 0) * segment\n",
    "        else:\n",
    "            return segment\n",
    "    \n",
    "\n",
    "show(ModularMountingSegment(100, 20, CLEARANCE, SCREW_RADIUS, True).place_at(CenterConfig.LEFT))\n",
    "#m = ModularMountingSegment(100, 20, CLEARANCE, SCREW_RADIUS, True).place_at(CenterConfig.LEFT)"
   ]
  },
  {
   "cell_type": "code",
   "execution_count": 3,
   "id": "4854c63f-e008-450e-9645-15da0b4dea5b",
   "metadata": {
    "editable": true,
    "slideshow": {
     "slide_type": ""
    },
    "tags": []
   },
   "outputs": [
    {
     "name": "stdout",
     "output_type": "stream",
     "text": [
      "++\n"
     ]
    },
    {
     "data": {
      "text/plain": [
       "<cad_viewer_widget.widget.CadViewer at 0x1fba8143f80>"
      ]
     },
     "execution_count": 3,
     "metadata": {},
     "output_type": "execute_result"
    }
   ],
   "source": [
    "WIDTH = 20\n",
    "CHAMFER = 1\n",
    "TOOTH_WIDTH = 4\n",
    "\n",
    "import asyncio\n",
    "from itertools import starmap\n",
    "\n",
    "async def make_lip(width, tooth_thickness) -> Solid:\n",
    "    profile = Polyline(\n",
    "        [\n",
    "            (width + tooth_thickness, -width / 2),\n",
    "            (0, -width / 2),\n",
    "            (0, width / 2),\n",
    "            (width + tooth_thickness, width / 2)\n",
    "        ]\n",
    "    ) + RadiusArc(\n",
    "        (width + tooth_thickness, width / 2),\n",
    "        (width + tooth_thickness, -width / 2),\n",
    "        width / 2\n",
    "    )\n",
    "    return Rot(-90, 0, 0) * extrude(Plane.XZ * Face(profile), tooth_thickness / 2, both=True) \n",
    "\n",
    "async def make_tooth(width, tooth_thickness) -> Solid:\n",
    "    profile = Polyline(\n",
    "        (tooth_thickness, -width / 2, 0),\n",
    "        (0, -width / 2, 0),\n",
    "        (0, width / 2, 0),\n",
    "        (tooth_thickness, width / 2, 0),\n",
    "        (width / 2 + tooth_thickness, 0, 0), close=True\n",
    "    )\n",
    "    w = Rot(-90, 0, 0) * extrude(Plane.XZ * Face(profile), tooth_thickness / 2, both=True)\n",
    "    return w\n",
    "\n",
    "async def make_socket(width, chamfer_length, is_male=True) -> Solid:\n",
    "    tooth_width = width / 5\n",
    "    lip, tooth = await asyncio.gather(make_lip(width, tooth_width), make_tooth(width, tooth_width))\n",
    "    l = enumerate(Line((0, -width / 2 + tooth_width / 2), (0, width / 2 - tooth_width / 2)).distribute_locations(5))\n",
    "    socket = reduce(lambda x,y : x + y, starmap(lambda index, pos: pos * (lip if index % 2 == is_male else tooth), l))\n",
    "    return socket.chamfer(\n",
    "        chamfer_length,\n",
    "        chamfer_length,\n",
    "        socket.faces().filter_by(Axis.Y).edges() - (\n",
    "            socket.edges().filter_by_position(\n",
    "                Axis.Y,\n",
    "                -WIDTH / 2,\n",
    "                WIDTH / 2,\n",
    "                inclusive=(False, False)\n",
    "            ) + socket.edges().filter_by(Axis.X)\n",
    "        )\n",
    "    )\n",
    "\n",
    "async def make_male_socket(width, chamfer_length):\n",
    "    socket = await make_socket(width, False)\n",
    "    chamfer_edges = socket.faces().filter_by(Axis.Y).edges() - (\n",
    "        socket.edges().filter_by_position(\n",
    "            Axis.Y,\n",
    "            -width / 2,\n",
    "            width / 2,\n",
    "            inclusive=(False, False)\n",
    "        ) + socket.edges().filter_by(Axis.X)\n",
    "    )\n",
    "    return socket.chamfer(chamfer_length, chamfer_length, chamfer_edges)\n",
    "\n",
    "async def make_female_socket(width, chamfer_length):\n",
    "    socket = await make_socket(width, True)\n",
    "    chamfer_edges = socket.edges()\n",
    "\n",
    "solids : tuple[Solid, Solid] = await asyncio.gather(make_socket(WIDTH, CHAMFER, False), make_socket(WIDTH, CHAMFER, True))\n",
    "female, male = solids\n",
    "\n",
    "show(\n",
    "    male.fillet(CHAMFER, male.edges().filter_by_position(Axis.Y, -WIDTH / 2 + CHAMFER, WIDTH / 2 - CHAMFER, inclusive=(False, False)).filter_by(GeomType.CIRCLE)),\n",
    "    female.fillet(CHAMFER, female.edges().filter_by_position(Axis.Y, -WIDTH / 2 + CHAMFER, WIDTH / 2 - CHAMFER, inclusive=(False, False)).filter_by(GeomType.CIRCLE)),\n",
    ")"
   ]
  },
  {
   "cell_type": "code",
   "execution_count": 5,
   "id": "37844291-2716-4902-a32e-45f25e0c159b",
   "metadata": {},
   "outputs": [
    {
     "name": "stdout",
     "output_type": "stream",
     "text": [
      "+\n"
     ]
    }
   ],
   "source": [
    "lip = await make_lip(WIDTH, TOOTH_WIDTH)\n",
    "\n",
    "loft([\n",
    "    Face(Polyline(\n",
    "        (-WIDTH / 2, TOOTH_WIDTH, 0),\n",
    "        (-WIDTH / 2, 0, 0),\n",
    "        (WIDTH / 2, 0, 0),\n",
    "        (WIDTH / 2, TOOTH_WIDTH, 0),\n",
    "        (0, WIDTH / 2 + TOOTH_WIDTH, 0), close=True\n",
    "    )),\n",
    "    Plane.XY.offset(-TOOTH_WIDTH) *Face(Polyline(\n",
    "        (-WIDTH / 2 + TOOTH_WIDTH, TOOTH_WIDTH, 0),\n",
    "        (-WIDTH / 2 + TOOTH_WIDTH, 0, 0),\n",
    "        (WIDTH / 2 - TOOTH_WIDTH , 0, 0),\n",
    "        (WIDTH / 2 - TOOTH_WIDTH , TOOTH_WIDTH, 0),\n",
    "        (0, WIDTH / 2, 0), close=True\n",
    "    )),\n",
    "], ruled=True) + Pos(0, 0, TOOTH_WIDTH /2) * Rot(0, 0, 90) * lip"
   ]
  },
  {
   "cell_type": "code",
   "execution_count": null,
   "id": "fb7b53bc-2316-4e03-9fe5-ef08381009d7",
   "metadata": {},
   "outputs": [],
   "source": []
  }
 ],
 "metadata": {
  "kernelspec": {
   "display_name": "Python 3 (ipykernel)",
   "language": "python",
   "name": "python3"
  },
  "language_info": {
   "codemirror_mode": {
    "name": "ipython",
    "version": 3
   },
   "file_extension": ".py",
   "mimetype": "text/x-python",
   "name": "python",
   "nbconvert_exporter": "python",
   "pygments_lexer": "ipython3",
   "version": "3.12.9"
  }
 },
 "nbformat": 4,
 "nbformat_minor": 5
}
